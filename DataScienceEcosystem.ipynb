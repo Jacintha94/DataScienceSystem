{
 "cells": [
  {
   "cell_type": "markdown",
   "id": "a84c07cb-625c-4b23-b427-1318e1742411",
   "metadata": {},
   "source": [
    "# Data Science Tools and Ecosystem"
   ]
  },
  {
   "cell_type": "markdown",
   "id": "dfa55827-c648-42aa-b6af-6eb6b7e1d7be",
   "metadata": {},
   "source": [
    "In this notebook, Data Science Tools and Ecosystem are summarized."
   ]
  },
  {
   "cell_type": "markdown",
   "id": "6bf7d933-9fa0-46a6-960e-8976e976c0df",
   "metadata": {},
   "source": [
    "Objectives\n",
    "\n",
    "- How to use R\n",
    "- How to use Python\n",
    "- How to use SQL\n",
    "- How to decide which programming software to learn"
   ]
  },
  {
   "cell_type": "markdown",
   "id": "6776b06f-9443-4bf2-a16f-a24e51a6de84",
   "metadata": {},
   "source": [
    "Some of the popular languages that Data Scientists use are:\n",
    "1. R\n",
    "2. Python\n",
    "3. SQl"
   ]
  },
  {
   "cell_type": "markdown",
   "id": "ec29ca09-39ae-4b7e-9391-1a05432c0308",
   "metadata": {},
   "source": [
    "Some of the commonly used libraries used by Data Scientists include:\n",
    "1. pandas\n",
    "2. Seaborn\n",
    "3. Numphy"
   ]
  },
  {
   "cell_type": "markdown",
   "id": "b29edd3d-4267-48b7-b558-510c6b0830a4",
   "metadata": {},
   "source": [
    "|Data Science Tools|\n",
    "|------------------|\n",
    "|Apache Spark|\n",
    "|Pandas|\n",
    "|Scikit-Learn|"
   ]
  },
  {
   "cell_type": "markdown",
   "id": "91df4e94-9fc7-4b12-b616-051feabfa299",
   "metadata": {},
   "source": [
    "### Below are a few examples of evaluating arithmetic expressions in Python."
   ]
  },
  {
   "cell_type": "code",
   "execution_count": null,
   "id": "5c41b111-8385-4690-8e1f-b0178bc2c05c",
   "metadata": {},
   "outputs": [],
   "source": [
    "#This a simple arithmetic expression to mutiply then add integers"
   ]
  },
  {
   "cell_type": "code",
   "execution_count": 1,
   "id": "0efc09ba-be88-41a2-963a-99ecdc54d178",
   "metadata": {},
   "outputs": [
    {
     "data": {
      "text/plain": [
       "17"
      ]
     },
     "execution_count": 1,
     "metadata": {},
     "output_type": "execute_result"
    }
   ],
   "source": [
    "(3*4)+5"
   ]
  },
  {
   "cell_type": "code",
   "execution_count": null,
   "id": "52b5e08b-2d0b-453b-b974-848948e432e7",
   "metadata": {},
   "outputs": [],
   "source": [
    "#This will convert 200 minutes to hours by dividing by 60"
   ]
  },
  {
   "cell_type": "code",
   "execution_count": 2,
   "id": "8c9b72cc-4b3a-4e2b-8a72-b8f2f310e47e",
   "metadata": {},
   "outputs": [
    {
     "name": "stdin",
     "output_type": "stream",
     "text": [
      "Number of Minutes to Convert   200\n"
     ]
    },
    {
     "name": "stdout",
     "output_type": "stream",
     "text": [
      "3.3333333333333335\n"
     ]
    }
   ],
   "source": [
    "min = int(input(\"Number of Minutes to Convert  \"))\n",
    "hr = min/60\n",
    "print (hr)"
   ]
  },
  {
   "cell_type": "markdown",
   "id": "4e1fb513-5c8f-43fe-8856-6aeabed7c341",
   "metadata": {},
   "source": [
    "## Author"
   ]
  },
  {
   "cell_type": "markdown",
   "id": "eb595635-7d41-4187-bdb4-f839d6783ec9",
   "metadata": {},
   "source": [
    "## C"
   ]
  }
 ],
 "metadata": {
  "kernelspec": {
   "display_name": "Python 3 (ipykernel)",
   "language": "python",
   "name": "python3"
  },
  "language_info": {
   "codemirror_mode": {
    "name": "ipython",
    "version": 3
   },
   "file_extension": ".py",
   "mimetype": "text/x-python",
   "name": "python",
   "nbconvert_exporter": "python",
   "pygments_lexer": "ipython3",
   "version": "3.12.7"
  }
 },
 "nbformat": 4,
 "nbformat_minor": 5
}
